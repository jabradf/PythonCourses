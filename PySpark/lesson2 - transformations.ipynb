{
 "cells": [
  {
   "cell_type": "code",
   "execution_count": 2,
   "id": "5e21f7a0",
   "metadata": {
    "editable": false,
    "tags": [
     "setup"
    ]
   },
   "outputs": [],
   "source": [
    "from pyspark.sql import SparkSession\n",
    "student_data = [(\"Chris\",1523,0.72,\"CA\"),\n",
    "                (\"Jake\", 1555,0.83,\"NY\"),\n",
    "                (\"Cody\", 1439,0.92,\"CA\"),\n",
    "                (\"Lisa\",1442,0.81,\"FL\"),\n",
    "                (\"Daniel\",1600,0.88,\"TX\"),\n",
    "                (\"Kelvin\",1382,0.99,\"FL\"),\n",
    "                (\"Nancy\",1442,0.74,\"TX\"),\n",
    "                (\"Pavel\",1599,0.82,\"NY\"),\n",
    "                (\"Josh\",1482,0.78,\"CA\"),\n",
    "                (\"Cynthia\",1582,0.94,\"CA\")]\n",
    "spark = SparkSession.builder.getOrCreate()\n",
    "student_rdd = spark.sparkContext.parallelize(student_data)"
   ]
  },
  {
   "cell_type": "markdown",
   "id": "c9fc1195",
   "metadata": {},
   "source": [
    "1. Convert the grades in the third column from decimals to whole numbers (multiply by 100) and keep the other three variables. Save this new RDD as `rdd_transformation`."
   ]
  },
  {
   "cell_type": "code",
   "execution_count": 8,
   "id": "275081fa",
   "metadata": {
    "deletable": false,
    "tags": [
     "cp1"
    ]
   },
   "outputs": [
    {
     "data": {
      "text/plain": [
       "[('Chris', 1523, 72, 'CA'),\n",
       " ('Jake', 1555, 83, 'NY'),\n",
       " ('Cody', 1439, 92, 'CA'),\n",
       " ('Lisa', 1442, 81, 'FL'),\n",
       " ('Daniel', 1600, 88, 'TX'),\n",
       " ('Kelvin', 1382, 99, 'FL'),\n",
       " ('Nancy', 1442, 74, 'TX'),\n",
       " ('Pavel', 1599, 82, 'NY'),\n",
       " ('Josh', 1482, 78, 'CA'),\n",
       " ('Cynthia', 1582, 94, 'CA')]"
      ]
     },
     "execution_count": 8,
     "metadata": {},
     "output_type": "execute_result"
    }
   ],
   "source": [
    "## YOUR SOLUTION HERE ##\n",
    "rdd_transformation = student_rdd.map(lambda x: (x[0], x[1], int(x[2]*100), x[3]))\n",
    "\n",
    "# confirm transformation is correct\n",
    "rdd_transformation.collect() # collect is a function that returns the RDD structure to stdio"
   ]
  },
  {
   "cell_type": "markdown",
   "id": "157dc85d",
   "metadata": {},
   "source": [
    "2. Filter `rdd_transformation` to just those rows with grades above 80 and save the new RDD as `rdd_filtered`."
   ]
  },
  {
   "cell_type": "code",
   "execution_count": 11,
   "id": "ae4335a6",
   "metadata": {
    "deletable": false,
    "tags": [
     "cp2"
    ]
   },
   "outputs": [
    {
     "data": {
      "text/plain": [
       "[('Jake', 1555, 83, 'NY'),\n",
       " ('Cody', 1439, 92, 'CA'),\n",
       " ('Lisa', 1442, 81, 'FL'),\n",
       " ('Daniel', 1600, 88, 'TX'),\n",
       " ('Kelvin', 1382, 99, 'FL'),\n",
       " ('Pavel', 1599, 82, 'NY'),\n",
       " ('Cynthia', 1582, 94, 'CA')]"
      ]
     },
     "execution_count": 11,
     "metadata": {},
     "output_type": "execute_result"
    }
   ],
   "source": [
    "## YOUR SOLUTION HERE ##\n",
    "rdd_filtered = rdd_transformation.filter(lambda x: x[2] >= 80)\n",
    "\n",
    "# confirm transformation is correct\n",
    "rdd_filtered.collect()"
   ]
  },
  {
   "cell_type": "code",
   "execution_count": null,
   "id": "9123954d",
   "metadata": {},
   "outputs": [],
   "source": []
  }
 ],
 "metadata": {
  "kernelspec": {
   "display_name": "Python 3 (ipykernel)",
   "language": "python",
   "name": "python3"
  },
  "language_info": {
   "codemirror_mode": {
    "name": "ipython",
    "version": 3
   },
   "file_extension": ".py",
   "mimetype": "text/x-python",
   "name": "python",
   "nbconvert_exporter": "python",
   "pygments_lexer": "ipython3",
   "version": "3.8.10"
  }
 },
 "nbformat": 4,
 "nbformat_minor": 5
}
