{
 "cells": [
  {
   "cell_type": "code",
   "execution_count": null,
   "id": "c605f476",
   "metadata": {},
   "outputs": [],
   "source": [
    "from pyspark.sql import SparkSession\n",
    "\n",
    "# using configs from here: https://spark.apache.org/docs/latest/configuration.html#available-properties\n",
    "spark = SparkSession\\\n",
    "    .builder\\\n",
    "    .master('local[*]')\\\n",
    "    .config('spark.driver.memory', '1g')\\\n",
    "    .config('spark.app.name', 'learning_spark_sql')\\\n",
    "    .getOrCreate()"
   ]
  },
  {
   "cell_type": "code",
   "execution_count": null,
   "id": "239b5f8b",
   "metadata": {},
   "outputs": [],
   "source": [
    "# The variable `spark` is a `pyspark.sql.session.SparkSession`\n",
    "type(spark)"
   ]
  },
  {
   "cell_type": "code",
   "execution_count": null,
   "id": "f16dd390",
   "metadata": {},
   "outputs": [],
   "source": [
    "# The underlying `SparkContext` can be accessed from the `SparkSession`\n",
    "type(spark.sparkContext)"
   ]
  },
  {
   "cell_type": "code",
   "execution_count": null,
   "id": "d72dcef4",
   "metadata": {},
   "outputs": [],
   "source": [
    "# Clear the SparkSession cache and delete the underlying `sparkContext`\n",
    "spark.stop()"
   ]
  }
 ],
 "metadata": {
  "kernelspec": {
   "display_name": "Python 3 (ipykernel)",
   "language": "python",
   "name": "python3"
  },
  "language_info": {
   "codemirror_mode": {
    "name": "ipython",
    "version": 3
   },
   "file_extension": ".py",
   "mimetype": "text/x-python",
   "name": "python",
   "nbconvert_exporter": "python",
   "pygments_lexer": "ipython3",
   "version": "3.8.10"
  }
 },
 "nbformat": 4,
 "nbformat_minor": 5
}
